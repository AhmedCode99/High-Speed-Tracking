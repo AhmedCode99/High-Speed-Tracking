{
  "cells": [
    {
      "cell_type": "markdown",
      "metadata": {
        "id": "view-in-github",
        "colab_type": "text"
      },
      "source": [
        "<a href=\"https://colab.research.google.com/github/AhmedCode99/High-Speed-Tracking/blob/main/make_template.ipynb\" target=\"_parent\"><img src=\"https://colab.research.google.com/assets/colab-badge.svg\" alt=\"Open In Colab\"/></a>"
      ]
    },
    {
      "cell_type": "code",
      "execution_count": null,
      "metadata": {
        "id": "AfmBZou8COt5"
      },
      "outputs": [],
      "source": [
        "import cv2\n",
        "import numpy as np\n",
        "import pandas as pd\n",
        "import neoapi\n",
        "import time\n",
        "import timeit\n",
        "import matplotlib.pyplot as plt"
      ]
    },
    {
      "cell_type": "code",
      "execution_count": null,
      "metadata": {
        "id": "zSBlZIg0COt8",
        "outputId": "915fa445-0651-4eba-b5ce-b6515e55d7d7"
      },
      "outputs": [
        {
          "name": "stdout",
          "output_type": "stream",
          "text": [
            "camera ok\n"
          ]
        },
        {
          "data": {
            "text/plain": [
              "<neoapi.neoapi.Cam; proxy of <Swig Object of type 'NeoAPI::Cam *' at 0x7af7138b7db0> >"
            ]
          },
          "execution_count": 6,
          "metadata": {},
          "output_type": "execute_result"
        }
      ],
      "source": [
        "# Use same setting as data collection\n",
        "\n",
        "#Camera Settings 220\n",
        "camera = neoapi.Cam()  # Create camera object\n",
        "camera.Connect('700006383766')  # Connect to camera 959 (cryo)\n",
        "camera.f.ExposureTime.Set(20) # Set exposure time\n",
        "camera.f.Width.value = 48# will set the value to the closest possible value\n",
        "camera.f.Height.value = 48 #Height Value\n",
        "camera.f.OffsetY.value = 132\n",
        "camera.f.OffsetX.value = 512\n",
        "camera.f.Gain.value = 1\n",
        "camera.f.AcquisitionFrameRateEnable.value = True\n",
        "camera.f.AcquisitionFrameRate.value = 8000 #fps\n",
        "print(\"camera ok\")\n",
        "\n",
        "time.sleep(1)\n",
        "\n",
        "img = camera.GetImage().GetNPArray()\n",
        "\n",
        "\n",
        "\n",
        "camera.Disconnect()\n",
        "\n",
        "\n"
      ]
    },
    {
      "cell_type": "code",
      "execution_count": null,
      "metadata": {
        "id": "-r_moDYoCOt-",
        "outputId": "0e99747e-a864-4af9-ed76-a2f2cf7c30e1"
      },
      "outputs": [
        {
          "data": {
            "text/plain": [
              "<matplotlib.image.AxesImage at 0x7af71027fe50>"
            ]
          },
          "execution_count": 10,
          "metadata": {},
          "output_type": "execute_result"
        },
        {
          "data": {
            "image/png": "[encoded data removed]",
            "text/plain": [
              "<Figure size 640x480 with 1 Axes>"
            ]
          },
          "metadata": {},
          "output_type": "display_data"
        }
      ],
      "source": [
        "plt.imshow(img, cmap='gray') # Look at the image"
      ]
    },
    {
      "cell_type": "code",
      "execution_count": null,
      "metadata": {
        "id": "ziOn4TfkCOt_",
        "outputId": "b9a7b614-8140-492f-8d2d-29fbb5d770f8"
      },
      "outputs": [
        {
          "data": {
            "text/plain": [
              "<matplotlib.image.AxesImage at 0x7af708c803d0>"
            ]
          },
          "execution_count": 24,
          "metadata": {},
          "output_type": "execute_result"
        },
        {
          "data": {
            "image/png": "[encoded data removed]",
            "text/plain": [
              "<Figure size 640x480 with 1 Axes>"
            ]
          },
          "metadata": {},
          "output_type": "display_data"
        }
      ],
      "source": [
        "# Manually Crop Template\n",
        "# Make it a square\n",
        "\n",
        "plt.imshow(img[13:43,5:30], cmap='gray')"
      ]
    },
    {
      "cell_type": "code",
      "execution_count": null,
      "metadata": {
        "id": "aBZEfWAFCOt_"
      },
      "outputs": [],
      "source": [
        "np.save('template.npy' ,img[13:43,5:30].squeeze()) # Save Temp"
      ]
    }
  ],
  "metadata": {
    "kernelspec": {
      "display_name": "baumer1.3p310",
      "language": "python",
      "name": "python3"
    },
    "language_info": {
      "codemirror_mode": {
        "name": "ipython",
        "version": 3
      },
      "file_extension": ".py",
      "mimetype": "text/x-python",
      "name": "python",
      "nbconvert_exporter": "python",
      "pygments_lexer": "ipython3",
      "version": "3.10.2"
    },
    "colab": {
      "provenance": [],
      "include_colab_link": true
    }
  },
  "nbformat": 4,
  "nbformat_minor": 0
}